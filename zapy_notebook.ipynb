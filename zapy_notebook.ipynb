{
  "nbformat": 4,
  "nbformat_minor": 0,
  "metadata": {
    "colab": {
      "provenance": [],
      "mount_file_id": "1HgYa-cO_8OhDBD8u3kSu7s9InRhjqDFd",
      "authorship_tag": "ABX9TyPOAFklMqppuuBmFLR63n4c",
      "include_colab_link": true
    },
    "kernelspec": {
      "name": "python3",
      "display_name": "Python 3"
    },
    "language_info": {
      "name": "python"
    }
  },
  "cells": [
    {
      "cell_type": "markdown",
      "metadata": {
        "id": "view-in-github",
        "colab_type": "text"
      },
      "source": [
        "<a href=\"https://colab.research.google.com/github/jespimentel/zapy_notebook/blob/main/zapy_notebook.ipynb\" target=\"_parent\"><img src=\"https://colab.research.google.com/assets/colab-badge.svg\" alt=\"Open In Colab\"/></a>"
      ]
    },
    {
      "cell_type": "markdown",
      "source": [
        "# **zapy**\n",
        "José Eduardo de Souza Pimentel (2022)\n",
        "- - - \n",
        "\n",
        "### Ferramenta forense para a análise de metadados do WhatsApp\n",
        "\n",
        "### Introdução\n",
        "\n",
        "O WhatsApp fornece por e-mail os metadados das comunicações realizadas pelo app, em atendimento à ordem judicial de afastamento do sigilo telemático.\n",
        "\n",
        "O programa lê os e-mails que contêm tais metadados e organiza toda a informação numa planilha Excel e em gráficos para facilitar a análise pelo investigador. \n",
        "\n",
        "Também consulta a api IPAPI (https://ipapi.com) para a obtenção de informações adicionais relacionadas aos IPs coletados, tais como 'hostname', 'latitude', 'longitude', 'cidade' e 'região', podendo plotá-las no mapa (Folium).\n",
        "\n",
        "### Uso\n",
        "\n",
        "1. Mova para os arquivos 'eml' para a pasta de trabalho ('/content/').\n",
        "    > Opcionalmente, com o uso do MS Outlook, exporte um lote de emails no formato 'txt'. O programa dará preferência à leitura desse tipo de arquivo.\n",
        "    > Certifique-se de que o arquivo txt gerado ou os e-mails carregados dizem respeito ao mesmo alvo.\n",
        "1. Rode a aplicação.\n",
        "- O programa perguntará:\n",
        "    - se você deseja restringir a consulta da API; e\n",
        "    - se você deseja gerar gráficos para análise dos dados coletados.\n",
        "\n",
        "### Observações\n",
        "\n",
        "- As sugestões para o aprimoramento do programa são muito bem-vindas.\n",
        "- Encontre a atualização deste \"notebook\" e a versão em script em: github/jespimentel"
      ],
      "metadata": {
        "id": "sZawnlgIfpRp"
      }
    },
    {
      "cell_type": "code",
      "source": [
        "# Configurações do usuário\n",
        "\n",
        "chave = 'XXXXXXXXXXXXXXXXXXXXXXXX' # Obtenha a sua chave pessoal em ipapi.com\n",
        "path = '/content/'"
      ],
      "metadata": {
        "id": "Rpeuc1C6hR2n"
      },
      "execution_count": 46,
      "outputs": []
    },
    {
      "cell_type": "code",
      "source": [
        "# Importação das bibliotecas necessárias\n",
        "\n",
        "import os, re\n",
        "import requests, json\n",
        "\n",
        "import pandas as pd\n",
        "import matplotlib.pyplot as plt\n",
        "\n",
        "from pathlib import Path\n",
        "\n",
        "from email import policy\n",
        "from email.parser import BytesParser"
      ],
      "metadata": {
        "id": "_aOk2Uh-T6L1"
      },
      "execution_count": 47,
      "outputs": []
    },
    {
      "cell_type": "code",
      "source": [
        "# Funções\n",
        "\n",
        "def faz_saudacao(orgao):\n",
        "  \"\"\"Lê arquivo .env e saúda o usuário\"\"\"\n",
        "  print (f'Bem vindo ao(à) {orgao}!\\n')\n",
        "  print(\"Selecione a pasta de e-mails (arquivos 'eml') ou arquivos texto ('txt')\")\n",
        "  return"
      ],
      "metadata": {
        "id": "YRzEICsYX5jD"
      },
      "execution_count": 48,
      "outputs": []
    },
    {
      "cell_type": "code",
      "source": [
        "# Incício do programa\n",
        "\n",
        "faz_saudacao('Promotoria de Justiça de Piracicaba')\n",
        "caminho_para_arquivos = path\n",
        "path = Path(caminho_para_arquivos)\n",
        "eml_files = list(path.glob('*.eml'))\n",
        "txt_files = list(path.glob('*.txt'))\n",
        "texts = []\n",
        "\n",
        "# Prioriza arquivos \"txt\" se existentes. Não sendo o caso, lê os arquivos \"eml\"\n",
        "\n",
        "if len(txt_files) !=0:\n",
        "  print(f'Foram encontrados {len(txt_files)} arquivos \"txt\" na pasta escolhida.')\n",
        "  print('Arquivos encontrados:')\n",
        "  for arq in txt_files:\n",
        "    print(arq)\n",
        "  print('Processando os arquivos texto...')\n",
        "  for file in txt_files:\n",
        "    with open (file, 'r', encoding='ISO-8859-1') as f:\n",
        "      text = f.read()\n",
        "    texts.append(text)\n",
        "\n",
        "elif len(eml_files) !=0:\n",
        "  print(f'Foram encontrados {len(eml_files)} e-mails na pasta escolhida.')\n",
        "  print('Arquivos encontrados:')\n",
        "  for arq in eml_files:\n",
        "    print(arq)\n",
        "  print('Processando os arquivos de e-mail...')\n",
        "  for file in eml_files:\n",
        "    with open (file, 'rb') as fp:\n",
        "      msg = BytesParser(policy=policy.default).parse(fp)\n",
        "    text = msg.get_body(preferencelist=('plain')).get_content()\n",
        "    texts.append(text)\n",
        "\n",
        "else:\n",
        "  print('Não encontrei arquivos para o processamento.')\n",
        "  print('Até breve!')\n",
        "  os.system('pause')\n",
        "  exit()\n",
        "\n",
        "texto = ''\n",
        "for text in texts:\n",
        "  texto = texto + text\n",
        "\n",
        "# Tratamento do texto\n",
        "\n",
        "texto = texto.replace('Message Id', 'Message_Id')\n",
        "texto = texto.replace('Group Id', 'Group_Id')\n",
        "texto = texto.replace('Sender Ip', 'Sender_Ip')\n",
        "texto = texto.replace('Sender Port', 'Sender_Port')\n",
        "texto = texto.replace('Sender Device', 'Sender_Device')\n",
        "texto = texto.replace('Message Style', 'Message_Style')\n",
        "texto = texto.replace('Message Size', 'Message_Size')\n",
        "\n",
        "features = ['Timestamp', 'Message_Id', 'Sender', 'Recipients', 'Group_Id', 'Sender_Ip', 'Sender_Port', \\\n",
        "            'Sender_Device', 'Type', 'Message_Style', 'Message_Size']\n",
        "\n",
        "# REGEX\n",
        "# Cada conjunto de parenteses () define um grupo, gerando uma lista como resultado do \"findall\"\n",
        "# O uso do \"?:\" anula essa funcionalidade, fazendo com que cada item da lista corresponda a uma mensagem\n",
        "# RegEx podem ser testadas em https://regex101.com/\n",
        "\n",
        "pattern = r\"\\sTimestamp.+(?:\\n.+)+\\s(?:Message_Size\\s+[0-9]+)\\n\" # Padrão para cada uma das mensagens\n",
        "mensagens = re.findall(pattern, texto, re.MULTILINE) # Gera a lista de mensagens\n",
        "\n",
        "# Criação da lista de dicionários (um para cada mensagem individual)\n",
        "\n",
        "lista_msg=[]\n",
        "for mensagem in mensagens:\n",
        "  item = {}\n",
        "  for feature in features:\n",
        "    padrao = fr'({feature}\\s.+)' # f-string com raw\n",
        "    res = re.findall(padrao, mensagem, re.MULTILINE)\n",
        "    if res !=[]:\n",
        "      elementos = res[0].split(' ', maxsplit=1)\n",
        "      item[elementos[0].strip()] = elementos[1].strip() \n",
        "  lista_msg.append(item)"
      ],
      "metadata": {
        "id": "HQqeWFqnU-cl"
      },
      "execution_count": null,
      "outputs": []
    },
    {
      "cell_type": "code",
      "source": [
        "# Criação do dataframe com as mensagens extraídas\n",
        "\n",
        "df = pd.DataFrame(lista_msg, columns=features)\n",
        "print(f'Foram encontradas {len(df)} mensagens.')"
      ],
      "metadata": {
        "colab": {
          "base_uri": "https://localhost:8080/"
        },
        "id": "luvI9vtiZ3gy",
        "outputId": "54c933aa-bbf7-489b-8b21-11da9066b905"
      },
      "execution_count": 50,
      "outputs": [
        {
          "output_type": "stream",
          "name": "stdout",
          "text": [
            "Foram encontradas 392 mensagens.\n"
          ]
        }
      ]
    },
    {
      "cell_type": "code",
      "source": [
        "# Exiba parte do dataframe\n",
        "\n",
        "df.head(5)"
      ],
      "metadata": {
        "id": "SHhdsAqTV1zR"
      },
      "execution_count": null,
      "outputs": []
    },
    {
      "cell_type": "code",
      "source": [
        "# Identificação do alvo\n",
        "\n",
        "criterio = (df.Message_Style == 'individual')&(df.Sender_Ip.notnull())\n",
        "alvo = df[criterio]['Sender'].value_counts() \n",
        "alvo = alvo.to_string().split()[0]\n",
        "alvo"
      ],
      "metadata": {
        "id": "Y1mtQCpTVmbs"
      },
      "execution_count": null,
      "outputs": []
    },
    {
      "cell_type": "code",
      "source": [
        "# Cálculos e análises\n",
        "\n",
        "# Mensagens invidivuais enviadas por tipo\n",
        "\n",
        "criterio = (df.Message_Style == 'individual')\n",
        "qtd_msg_env = df[criterio].groupby(['Recipients', 'Type'])['Type'].count()\n",
        "qtd_msg_env"
      ],
      "metadata": {
        "id": "EDahP4RbWIn-"
      },
      "execution_count": null,
      "outputs": []
    },
    {
      "cell_type": "code",
      "source": [
        "# Mensagens individuais recebidas por tipo\n",
        "\n",
        "criterio = (df.Message_Style == 'individual')\n",
        "qtd_msg_receb = df[criterio].groupby(['Sender', 'Type'])['Type'].count()\n",
        "qtd_msg_receb"
      ],
      "metadata": {
        "id": "E4GrOFqTWmPz"
      },
      "execution_count": null,
      "outputs": []
    },
    {
      "cell_type": "code",
      "source": [
        "# Mensagens individuais enviadas por tipo após o 'unstack' e totalização\n",
        "\n",
        "qtd_msg_env_desempilhada = qtd_msg_env.unstack(fill_value=0)\n",
        "qtd_msg_env_desempilhada = qtd_msg_env_desempilhada.drop(qtd_msg_env_desempilhada.columns[0], axis=1)\n",
        "qtd_msg_env_desempilhada['total'] = qtd_msg_env_desempilhada.sum(axis=1)\n",
        "qtd_msg_env_desempilhada = qtd_msg_env_desempilhada.sort_values(by='total', ascending=False)\n",
        "qtd_msg_env_desempilhada"
      ],
      "metadata": {
        "id": "-ZLp3zeBWpWx"
      },
      "execution_count": null,
      "outputs": []
    },
    {
      "cell_type": "code",
      "source": [
        "# Mensagens individuais recebidas por tipo após o 'unstack' e totalização\n",
        "\n",
        "qtd_msg_receb_desempilhada = qtd_msg_receb.unstack(fill_value=0)\n",
        "qtd_msg_receb_desempilhada = qtd_msg_receb_desempilhada.drop(qtd_msg_receb_desempilhada.columns[0], axis=1)\n",
        "qtd_msg_receb_desempilhada['total'] = qtd_msg_receb_desempilhada.sum(axis=1)\n",
        "qtd_msg_receb_desempilhada = qtd_msg_receb_desempilhada.sort_values(by='total', ascending=False)\n",
        "qtd_msg_receb_desempilhada"
      ],
      "metadata": {
        "id": "pb45fwmeWsRO"
      },
      "execution_count": null,
      "outputs": []
    },
    {
      "cell_type": "code",
      "source": [
        "# Quantidade de mensagens em grupo\n",
        "\n",
        "df_part_grupos = df['Group_Id'].value_counts().to_frame()\n",
        "df_part_grupos"
      ],
      "metadata": {
        "id": "o6tym95_Wyms"
      },
      "execution_count": null,
      "outputs": []
    },
    {
      "cell_type": "code",
      "source": [
        "# Criação de Dataframe de participação nos grupos\n",
        "\n",
        "criterio = df['Group_Id'].notna()\n",
        "recipients_grupos = df[criterio].Recipients\n",
        "cels_grupos = []\n",
        "for i, cel in recipients_grupos.iteritems():\n",
        "  cels = cel.split(',')\n",
        "  for num in cels:\n",
        "    cels_grupos.append(num)\n",
        "cels_grupos_dict = {}\n",
        "cels_unicos_grupos = set(cels_grupos)\n",
        "for n in cels_unicos_grupos:\n",
        "  cels_grupos_dict[n] = cels_grupos.count(n) \n",
        "\n",
        "df_grupos = pd.DataFrame.from_dict(cels_grupos_dict, orient='index', columns=['Ocorrências']).sort_values(by='Ocorrências', \\\n",
        "  ascending=False)\n",
        "\n",
        "df_grupos"
      ],
      "metadata": {
        "id": "HeUF0mVnW3KF"
      },
      "execution_count": null,
      "outputs": []
    },
    {
      "cell_type": "code",
      "source": [
        "# DF com Sender_IP\n",
        "\n",
        "df_com_ips = df[df['Sender_Ip'].notna()]\n",
        "ips = df_com_ips.Sender_Ip.value_counts()\n",
        "ips_lista = ips.index.to_list()\n",
        "\n",
        "print(f'Foram encontrados {len(ips_lista)} IPs diversos.')\n",
        "resposta = input('Deseja restringir a consulta à API? <s/n>')\n",
        "if resposta.lower() == 's':\n",
        "  cond = True\n",
        "  while (cond):\n",
        "    num = input ('Qtde. consultas: ')\n",
        "    if num.isdigit() and int(num)>0 and int(num)<=len(ips_lista):\n",
        "      cond = False\n",
        "      num = int(num)\n",
        "      ips_lista = ips_lista[:num]"
      ],
      "metadata": {
        "colab": {
          "base_uri": "https://localhost:8080/"
        },
        "id": "MBzRhR_WW7me",
        "outputId": "88b52e5f-b946-444e-bbca-f7f56a191c51"
      },
      "execution_count": 59,
      "outputs": [
        {
          "name": "stdout",
          "output_type": "stream",
          "text": [
            "Foram encontrados 3 IPs diversos.\n",
            "Deseja restringir a consulta à API? <s/n>n\n"
          ]
        }
      ]
    },
    {
      "cell_type": "code",
      "source": [
        "# Consulta à API da IPAPI\n",
        "# Cria a lista com as informações de IP obtidas nas requisições\n",
        "# Documentação da API: https://ipapi.com/quickstart \n",
        "\n",
        "operadoras = []\n",
        "for ip in ips_lista:\n",
        "  elemento = {}\n",
        "  try:\n",
        "    dados = requests.get (f'http://api.ipapi.com/api/{ip}?access_key={chave}&hostname=1')\n",
        "    dados_json = json.loads(dados.content)\n",
        "    elemento = {'ip': dados_json['ip'], 'hostname' : dados_json['hostname'], 'latitude': dados_json['latitude'], \n",
        "              'longitude': dados_json['longitude'],'city': dados_json['city'], 'region_name': dados_json['region_name']}\n",
        "    operadoras.append(elemento)\n",
        "  except:\n",
        "    resposta = 'API s/ resp.'\n",
        "    elemento = {'ip': ip, 'hostname' : resposta, 'latitude': resposta, 'longitude': resposta,'city': resposta, 'region_name': resposta}\n",
        "    operadoras.append(elemento)\n"
      ],
      "metadata": {
        "id": "YVdOnF8mXL3X"
      },
      "execution_count": 60,
      "outputs": []
    },
    {
      "cell_type": "code",
      "source": [
        "# Criação do dataframe de operadoras com os dados obtidos da API\n",
        "\n",
        "df_operadoras = pd.DataFrame(operadoras)\n",
        "df_operadoras = df_operadoras.set_index('ip')\n",
        "df_operadoras"
      ],
      "metadata": {
        "colab": {
          "base_uri": "https://localhost:8080/",
          "height": 175
        },
        "id": "HrVJTBNQXPXl",
        "outputId": "ccde1368-4435-460a-b42b-a43edf8b38c7"
      },
      "execution_count": 69,
      "outputs": [
        {
          "output_type": "execute_result",
          "data": {
            "text/plain": [
              "                                                                    hostname  \\\n",
              "ip                                                                             \n",
              "187.183.47.232                                        bbb72fe8.virtua.com.br   \n",
              "2804:18:18c5:4eab:964:1b81:3021:3174    2804:18:18c5:4eab:964:1b81:3021:3174   \n",
              "2804:18:10c1:a66a:25ff:300e:506e:caa5  2804:18:10c1:a66a:25ff:300e:506e:caa5   \n",
              "\n",
              "                                        latitude  longitude       city  \\\n",
              "ip                                                                       \n",
              "187.183.47.232                        -22.413401 -47.569569  Rio Claro   \n",
              "2804:18:18c5:4eab:964:1b81:3021:3174  -23.547499 -46.636108  São Paulo   \n",
              "2804:18:10c1:a66a:25ff:300e:506e:caa5 -23.547499 -46.636108  São Paulo   \n",
              "\n",
              "                                      region_name  \n",
              "ip                                                 \n",
              "187.183.47.232                          São Paulo  \n",
              "2804:18:18c5:4eab:964:1b81:3021:3174    São Paulo  \n",
              "2804:18:10c1:a66a:25ff:300e:506e:caa5   São Paulo  "
            ],
            "text/html": [
              "\n",
              "  <div id=\"df-304cc2df-bf78-43fa-9bd6-ea65892a1404\">\n",
              "    <div class=\"colab-df-container\">\n",
              "      <div>\n",
              "<style scoped>\n",
              "    .dataframe tbody tr th:only-of-type {\n",
              "        vertical-align: middle;\n",
              "    }\n",
              "\n",
              "    .dataframe tbody tr th {\n",
              "        vertical-align: top;\n",
              "    }\n",
              "\n",
              "    .dataframe thead th {\n",
              "        text-align: right;\n",
              "    }\n",
              "</style>\n",
              "<table border=\"1\" class=\"dataframe\">\n",
              "  <thead>\n",
              "    <tr style=\"text-align: right;\">\n",
              "      <th></th>\n",
              "      <th>hostname</th>\n",
              "      <th>latitude</th>\n",
              "      <th>longitude</th>\n",
              "      <th>city</th>\n",
              "      <th>region_name</th>\n",
              "    </tr>\n",
              "    <tr>\n",
              "      <th>ip</th>\n",
              "      <th></th>\n",
              "      <th></th>\n",
              "      <th></th>\n",
              "      <th></th>\n",
              "      <th></th>\n",
              "    </tr>\n",
              "  </thead>\n",
              "  <tbody>\n",
              "    <tr>\n",
              "      <th>187.183.47.232</th>\n",
              "      <td>bbb72fe8.virtua.com.br</td>\n",
              "      <td>-22.413401</td>\n",
              "      <td>-47.569569</td>\n",
              "      <td>Rio Claro</td>\n",
              "      <td>São Paulo</td>\n",
              "    </tr>\n",
              "    <tr>\n",
              "      <th>2804:18:18c5:4eab:964:1b81:3021:3174</th>\n",
              "      <td>2804:18:18c5:4eab:964:1b81:3021:3174</td>\n",
              "      <td>-23.547499</td>\n",
              "      <td>-46.636108</td>\n",
              "      <td>São Paulo</td>\n",
              "      <td>São Paulo</td>\n",
              "    </tr>\n",
              "    <tr>\n",
              "      <th>2804:18:10c1:a66a:25ff:300e:506e:caa5</th>\n",
              "      <td>2804:18:10c1:a66a:25ff:300e:506e:caa5</td>\n",
              "      <td>-23.547499</td>\n",
              "      <td>-46.636108</td>\n",
              "      <td>São Paulo</td>\n",
              "      <td>São Paulo</td>\n",
              "    </tr>\n",
              "  </tbody>\n",
              "</table>\n",
              "</div>\n",
              "      <button class=\"colab-df-convert\" onclick=\"convertToInteractive('df-304cc2df-bf78-43fa-9bd6-ea65892a1404')\"\n",
              "              title=\"Convert this dataframe to an interactive table.\"\n",
              "              style=\"display:none;\">\n",
              "        \n",
              "  <svg xmlns=\"http://www.w3.org/2000/svg\" height=\"24px\"viewBox=\"0 0 24 24\"\n",
              "       width=\"24px\">\n",
              "    <path d=\"M0 0h24v24H0V0z\" fill=\"none\"/>\n",
              "    <path d=\"M18.56 5.44l.94 2.06.94-2.06 2.06-.94-2.06-.94-.94-2.06-.94 2.06-2.06.94zm-11 1L8.5 8.5l.94-2.06 2.06-.94-2.06-.94L8.5 2.5l-.94 2.06-2.06.94zm10 10l.94 2.06.94-2.06 2.06-.94-2.06-.94-.94-2.06-.94 2.06-2.06.94z\"/><path d=\"M17.41 7.96l-1.37-1.37c-.4-.4-.92-.59-1.43-.59-.52 0-1.04.2-1.43.59L10.3 9.45l-7.72 7.72c-.78.78-.78 2.05 0 2.83L4 21.41c.39.39.9.59 1.41.59.51 0 1.02-.2 1.41-.59l7.78-7.78 2.81-2.81c.8-.78.8-2.07 0-2.86zM5.41 20L4 18.59l7.72-7.72 1.47 1.35L5.41 20z\"/>\n",
              "  </svg>\n",
              "      </button>\n",
              "      \n",
              "  <style>\n",
              "    .colab-df-container {\n",
              "      display:flex;\n",
              "      flex-wrap:wrap;\n",
              "      gap: 12px;\n",
              "    }\n",
              "\n",
              "    .colab-df-convert {\n",
              "      background-color: #E8F0FE;\n",
              "      border: none;\n",
              "      border-radius: 50%;\n",
              "      cursor: pointer;\n",
              "      display: none;\n",
              "      fill: #1967D2;\n",
              "      height: 32px;\n",
              "      padding: 0 0 0 0;\n",
              "      width: 32px;\n",
              "    }\n",
              "\n",
              "    .colab-df-convert:hover {\n",
              "      background-color: #E2EBFA;\n",
              "      box-shadow: 0px 1px 2px rgba(60, 64, 67, 0.3), 0px 1px 3px 1px rgba(60, 64, 67, 0.15);\n",
              "      fill: #174EA6;\n",
              "    }\n",
              "\n",
              "    [theme=dark] .colab-df-convert {\n",
              "      background-color: #3B4455;\n",
              "      fill: #D2E3FC;\n",
              "    }\n",
              "\n",
              "    [theme=dark] .colab-df-convert:hover {\n",
              "      background-color: #434B5C;\n",
              "      box-shadow: 0px 1px 3px 1px rgba(0, 0, 0, 0.15);\n",
              "      filter: drop-shadow(0px 1px 2px rgba(0, 0, 0, 0.3));\n",
              "      fill: #FFFFFF;\n",
              "    }\n",
              "  </style>\n",
              "\n",
              "      <script>\n",
              "        const buttonEl =\n",
              "          document.querySelector('#df-304cc2df-bf78-43fa-9bd6-ea65892a1404 button.colab-df-convert');\n",
              "        buttonEl.style.display =\n",
              "          google.colab.kernel.accessAllowed ? 'block' : 'none';\n",
              "\n",
              "        async function convertToInteractive(key) {\n",
              "          const element = document.querySelector('#df-304cc2df-bf78-43fa-9bd6-ea65892a1404');\n",
              "          const dataTable =\n",
              "            await google.colab.kernel.invokeFunction('convertToInteractive',\n",
              "                                                     [key], {});\n",
              "          if (!dataTable) return;\n",
              "\n",
              "          const docLinkHtml = 'Like what you see? Visit the ' +\n",
              "            '<a target=\"_blank\" href=https://colab.research.google.com/notebooks/data_table.ipynb>data table notebook</a>'\n",
              "            + ' to learn more about interactive tables.';\n",
              "          element.innerHTML = '';\n",
              "          dataTable['output_type'] = 'display_data';\n",
              "          await google.colab.output.renderOutput(dataTable, element);\n",
              "          const docLink = document.createElement('div');\n",
              "          docLink.innerHTML = docLinkHtml;\n",
              "          element.appendChild(docLink);\n",
              "        }\n",
              "      </script>\n",
              "    </div>\n",
              "  </div>\n",
              "  "
            ]
          },
          "metadata": {},
          "execution_count": 69
        }
      ]
    },
    {
      "cell_type": "code",
      "source": [
        "# Merge de df com df_operadoras\n",
        "\n",
        "merged = pd.merge(df, df_operadoras, how='outer', left_on = 'Sender_Ip', right_on = 'ip')\n",
        "merged = merged.drop(columns='ip', axis=1)\n",
        "merged = merged.set_index('Timestamp')\n",
        "merged"
      ],
      "metadata": {
        "id": "IQJi_MwHXSTm"
      },
      "execution_count": null,
      "outputs": []
    },
    {
      "cell_type": "code",
      "source": [
        "# Criação de planilha Excel para resumir o trabalho\n",
        "\n",
        "print('Gravando a planilha...')\n",
        "with pd.ExcelWriter('resumo.xlsx') as writer:\n",
        "    merged.to_excel(writer, sheet_name='Geral')\n",
        "    qtd_msg_env_desempilhada.to_excel(writer, sheet_name='Msg enviadas')\n",
        "    qtd_msg_receb_desempilhada.to_excel(writer, sheet_name='Msg recebidas')\n",
        "    df_part_grupos.to_excel(writer, sheet_name='Part. grupos')\n",
        "    df_grupos.to_excel(writer, sheet_name='Msg nos grupos')\n",
        "    ips.to_excel(writer, sheet_name='IPs - n. de acessos')\n",
        "    df_operadoras.to_excel(writer, sheet_name='Provedores')\n",
        "print('Planilha gerada.')"
      ],
      "metadata": {
        "colab": {
          "base_uri": "https://localhost:8080/"
        },
        "id": "ydnQA4E3XZ1H",
        "outputId": "f7eda39e-b19e-4ce4-d350-bb4a5b56d58c"
      },
      "execution_count": 64,
      "outputs": [
        {
          "output_type": "stream",
          "name": "stdout",
          "text": [
            "Gravando a planilha...\n",
            "Planilha gerada.\n"
          ]
        }
      ]
    },
    {
      "cell_type": "code",
      "source": [
        "# Gráficos\n",
        "\n",
        "resp = input('Deseja gerar os gráficos?(s/n)')\n",
        "if resp != 's':\n",
        "  exit()\n",
        "else:\n",
        "  # Gráfico de pizza: Tipos de mensagens enviadas pelo alvo\n",
        "  conta_msg_graf = qtd_msg_env_desempilhada.drop(columns='total')\n",
        "  criterio = (conta_msg_graf.index == alvo)\n",
        "  conta_msg_serie = conta_msg_graf[criterio].loc[alvo]\n",
        "  conta_msg_serie.plot(kind='pie', title= f'Tipos de mensagens enviadas pelo alvo {alvo}', legend=True, figsize =(10, 10), autopct='%1.0f%%')\n",
        "  path_do_arquivo = os.path.join('tipos-msg-alvo.png' )\n",
        "  plt.savefig(path_do_arquivo)\n",
        "  plt.show()\n",
        "\n",
        "  # Gráfico de barras: Quantidade e tipos de mensagens individuais\n",
        "  criterio = (conta_msg_graf.index != alvo)\n",
        "  if len(conta_msg_graf[criterio])>30:\n",
        "    conta_msg_graf[criterio].head(30).plot.bar(stacked=True, title='Top 30 - qtde e tipos de msg individuais', figsize=(16,8))\n",
        "  else:\n",
        "    conta_msg_graf[criterio].plot.bar(stacked=True, title='Qtde e tipos de msg individuais', figsize=(16,8))\n",
        "  path_do_arquivo = os.path.join('qtd-tipo-msg-ind.png')\n",
        "  plt.savefig(path_do_arquivo)\n",
        "  plt.show()\n",
        "\n",
        "  # Gráfico de barras: Participação nos grupos (quantidades de mensagens)\n",
        "  if len(df['Group_Id'].value_counts()) != 0: \n",
        "    df['Group_Id'].value_counts().plot(kind = 'bar', title='Participação nos Grupos (qtde. de msg)', figsize=(16,8),legend=True)\n",
        "    path_do_arquivo = ('part-grupos.png')\n",
        "    plt.savefig(path_do_arquivo)\n",
        "    plt.show()\n",
        "  else:\n",
        "    print('Sem participação em grupos')\n",
        "\n",
        "print('Programa concluído.')"
      ],
      "metadata": {
        "id": "b9-7OjqtUcm8"
      },
      "execution_count": null,
      "outputs": []
    },
    {
      "cell_type": "code",
      "source": [
        "# Cria o mapa para a plotagem da localização das operadoras\n",
        "\n",
        "import folium\n",
        "mapa = folium.Map([ -23.5489, -46.6388 ]) # Lat, Long de São Paulo/SP"
      ],
      "metadata": {
        "id": "CnDsGfZ54B96"
      },
      "execution_count": 66,
      "outputs": []
    },
    {
      "cell_type": "code",
      "source": [
        "# Cria os marcadores\n",
        "\n",
        "for op in operadoras:\n",
        "  mapa.add_child(\n",
        "      folium.Marker(\n",
        "          location=[op['latitude'], op['longitude']],\n",
        "          popup = f\"\"\"\n",
        "                  IP : {op['ip']}\n",
        "                  Hostname: {op['hostname']}\\n\n",
        "                  Cidade: {op['city']}\\n\n",
        "                  Região: {op['region_name']}\\n              \n",
        "                  \"\"\" \n",
        "      )\n",
        "  )"
      ],
      "metadata": {
        "id": "ImerBgAZ8_4l"
      },
      "execution_count": 67,
      "outputs": []
    },
    {
      "cell_type": "code",
      "source": [
        "# Exibe o mapa com os marcadores\n",
        "mapa"
      ],
      "metadata": {
        "colab": {
          "base_uri": "https://localhost:8080/",
          "height": 808
        },
        "id": "U6enq9ZW-JsV",
        "outputId": "968294d3-9ab9-4c12-a3a6-64331276a6d2"
      },
      "execution_count": 68,
      "outputs": [
        {
          "output_type": "execute_result",
          "data": {
            "text/plain": [
              "<folium.folium.Map at 0x7fd7c19e5c40>"
            ],
            "text/html": [
              "<div style=\"width:100%;\"><div style=\"position:relative;width:100%;height:0;padding-bottom:60%;\"><span style=\"color:#565656\">Make this Notebook Trusted to load map: File -> Trust Notebook</span><iframe srcdoc=\"&lt;!DOCTYPE html&gt;\n",
              "&lt;html&gt;\n",
              "&lt;head&gt;\n",
              "    \n",
              "    &lt;meta http-equiv=&quot;content-type&quot; content=&quot;text/html; charset=UTF-8&quot; /&gt;\n",
              "    \n",
              "        &lt;script&gt;\n",
              "            L_NO_TOUCH = false;\n",
              "            L_DISABLE_3D = false;\n",
              "        &lt;/script&gt;\n",
              "    \n",
              "    &lt;style&gt;html, body {width: 100%;height: 100%;margin: 0;padding: 0;}&lt;/style&gt;\n",
              "    &lt;style&gt;#map {position:absolute;top:0;bottom:0;right:0;left:0;}&lt;/style&gt;\n",
              "    &lt;script src=&quot;https://cdn.jsdelivr.net/npm/leaflet@1.6.0/dist/leaflet.js&quot;&gt;&lt;/script&gt;\n",
              "    &lt;script src=&quot;https://code.jquery.com/jquery-1.12.4.min.js&quot;&gt;&lt;/script&gt;\n",
              "    &lt;script src=&quot;https://maxcdn.bootstrapcdn.com/bootstrap/3.2.0/js/bootstrap.min.js&quot;&gt;&lt;/script&gt;\n",
              "    &lt;script src=&quot;https://cdnjs.cloudflare.com/ajax/libs/Leaflet.awesome-markers/2.0.2/leaflet.awesome-markers.js&quot;&gt;&lt;/script&gt;\n",
              "    &lt;link rel=&quot;stylesheet&quot; href=&quot;https://cdn.jsdelivr.net/npm/leaflet@1.6.0/dist/leaflet.css&quot;/&gt;\n",
              "    &lt;link rel=&quot;stylesheet&quot; href=&quot;https://maxcdn.bootstrapcdn.com/bootstrap/3.2.0/css/bootstrap.min.css&quot;/&gt;\n",
              "    &lt;link rel=&quot;stylesheet&quot; href=&quot;https://maxcdn.bootstrapcdn.com/bootstrap/3.2.0/css/bootstrap-theme.min.css&quot;/&gt;\n",
              "    &lt;link rel=&quot;stylesheet&quot; href=&quot;https://maxcdn.bootstrapcdn.com/font-awesome/4.6.3/css/font-awesome.min.css&quot;/&gt;\n",
              "    &lt;link rel=&quot;stylesheet&quot; href=&quot;https://cdnjs.cloudflare.com/ajax/libs/Leaflet.awesome-markers/2.0.2/leaflet.awesome-markers.css&quot;/&gt;\n",
              "    &lt;link rel=&quot;stylesheet&quot; href=&quot;https://cdn.jsdelivr.net/gh/python-visualization/folium/folium/templates/leaflet.awesome.rotate.min.css&quot;/&gt;\n",
              "    \n",
              "            &lt;meta name=&quot;viewport&quot; content=&quot;width=device-width,\n",
              "                initial-scale=1.0, maximum-scale=1.0, user-scalable=no&quot; /&gt;\n",
              "            &lt;style&gt;\n",
              "                #map_29b5c3c70eeb4827bb6ed5cf41b99ddf {\n",
              "                    position: relative;\n",
              "                    width: 100.0%;\n",
              "                    height: 100.0%;\n",
              "                    left: 0.0%;\n",
              "                    top: 0.0%;\n",
              "                }\n",
              "            &lt;/style&gt;\n",
              "        \n",
              "&lt;/head&gt;\n",
              "&lt;body&gt;\n",
              "    \n",
              "    \n",
              "            &lt;div class=&quot;folium-map&quot; id=&quot;map_29b5c3c70eeb4827bb6ed5cf41b99ddf&quot; &gt;&lt;/div&gt;\n",
              "        \n",
              "&lt;/body&gt;\n",
              "&lt;script&gt;\n",
              "    \n",
              "    \n",
              "            var map_29b5c3c70eeb4827bb6ed5cf41b99ddf = L.map(\n",
              "                &quot;map_29b5c3c70eeb4827bb6ed5cf41b99ddf&quot;,\n",
              "                {\n",
              "                    center: [-23.5489, -46.6388],\n",
              "                    crs: L.CRS.EPSG3857,\n",
              "                    zoom: 10,\n",
              "                    zoomControl: true,\n",
              "                    preferCanvas: false,\n",
              "                }\n",
              "            );\n",
              "\n",
              "            \n",
              "\n",
              "        \n",
              "    \n",
              "            var tile_layer_d1465717501a9b853394196a7c152f50 = L.tileLayer(\n",
              "                &quot;https://{s}.tile.openstreetmap.org/{z}/{x}/{y}.png&quot;,\n",
              "                {&quot;attribution&quot;: &quot;Data by \\u0026copy; \\u003ca href=\\&quot;http://openstreetmap.org\\&quot;\\u003eOpenStreetMap\\u003c/a\\u003e, under \\u003ca href=\\&quot;http://www.openstreetmap.org/copyright\\&quot;\\u003eODbL\\u003c/a\\u003e.&quot;, &quot;detectRetina&quot;: false, &quot;maxNativeZoom&quot;: 18, &quot;maxZoom&quot;: 18, &quot;minZoom&quot;: 0, &quot;noWrap&quot;: false, &quot;opacity&quot;: 1, &quot;subdomains&quot;: &quot;abc&quot;, &quot;tms&quot;: false}\n",
              "            ).addTo(map_29b5c3c70eeb4827bb6ed5cf41b99ddf);\n",
              "        \n",
              "    \n",
              "            var marker_20ccd49730ea5ef7c54c43af52a6256e = L.marker(\n",
              "                [-22.413400650024414, -47.5695686340332],\n",
              "                {}\n",
              "            ).addTo(map_29b5c3c70eeb4827bb6ed5cf41b99ddf);\n",
              "        \n",
              "    \n",
              "        var popup_8d19498ac5d8bef92a560113f463ff47 = L.popup({&quot;maxWidth&quot;: &quot;100%&quot;});\n",
              "\n",
              "        \n",
              "            var html_60b70f276c40c62d5b86eed0012d9aab = $(`&lt;div id=&quot;html_60b70f276c40c62d5b86eed0012d9aab&quot; style=&quot;width: 100.0%; height: 100.0%;&quot;&gt;                   IP : 187.183.47.232                   Hostname: bbb72fe8.virtua.com.br                    Cidade: Rio Claro                    Região: São Paulo                                  &lt;/div&gt;`)[0];\n",
              "            popup_8d19498ac5d8bef92a560113f463ff47.setContent(html_60b70f276c40c62d5b86eed0012d9aab);\n",
              "        \n",
              "\n",
              "        marker_20ccd49730ea5ef7c54c43af52a6256e.bindPopup(popup_8d19498ac5d8bef92a560113f463ff47)\n",
              "        ;\n",
              "\n",
              "        \n",
              "    \n",
              "    \n",
              "            var marker_841a6e153b592f3e51990a8c4be2a81e = L.marker(\n",
              "                [-23.54749870300293, -46.6361083984375],\n",
              "                {}\n",
              "            ).addTo(map_29b5c3c70eeb4827bb6ed5cf41b99ddf);\n",
              "        \n",
              "    \n",
              "        var popup_bda9af7ef9d65d6838ddda84fccef14a = L.popup({&quot;maxWidth&quot;: &quot;100%&quot;});\n",
              "\n",
              "        \n",
              "            var html_27b4b2b2cd27862be4af1fe010bd3f30 = $(`&lt;div id=&quot;html_27b4b2b2cd27862be4af1fe010bd3f30&quot; style=&quot;width: 100.0%; height: 100.0%;&quot;&gt;                   IP : 2804:18:18c5:4eab:964:1b81:3021:3174                   Hostname: 2804:18:18c5:4eab:964:1b81:3021:3174                    Cidade: São Paulo                    Região: São Paulo                                  &lt;/div&gt;`)[0];\n",
              "            popup_bda9af7ef9d65d6838ddda84fccef14a.setContent(html_27b4b2b2cd27862be4af1fe010bd3f30);\n",
              "        \n",
              "\n",
              "        marker_841a6e153b592f3e51990a8c4be2a81e.bindPopup(popup_bda9af7ef9d65d6838ddda84fccef14a)\n",
              "        ;\n",
              "\n",
              "        \n",
              "    \n",
              "    \n",
              "            var marker_d643dca7420232f0a87e437dcf0d90be = L.marker(\n",
              "                [-23.54749870300293, -46.6361083984375],\n",
              "                {}\n",
              "            ).addTo(map_29b5c3c70eeb4827bb6ed5cf41b99ddf);\n",
              "        \n",
              "    \n",
              "        var popup_9c321ece4d1252d0b9ba77f52139b2f5 = L.popup({&quot;maxWidth&quot;: &quot;100%&quot;});\n",
              "\n",
              "        \n",
              "            var html_b260d7aab94dc135c091cb4e247e5878 = $(`&lt;div id=&quot;html_b260d7aab94dc135c091cb4e247e5878&quot; style=&quot;width: 100.0%; height: 100.0%;&quot;&gt;                   IP : 2804:18:10c1:a66a:25ff:300e:506e:caa5                   Hostname: 2804:18:10c1:a66a:25ff:300e:506e:caa5                    Cidade: São Paulo                    Região: São Paulo                                  &lt;/div&gt;`)[0];\n",
              "            popup_9c321ece4d1252d0b9ba77f52139b2f5.setContent(html_b260d7aab94dc135c091cb4e247e5878);\n",
              "        \n",
              "\n",
              "        marker_d643dca7420232f0a87e437dcf0d90be.bindPopup(popup_9c321ece4d1252d0b9ba77f52139b2f5)\n",
              "        ;\n",
              "\n",
              "        \n",
              "    \n",
              "&lt;/script&gt;\n",
              "&lt;/html&gt;\" style=\"position:absolute;width:100%;height:100%;left:0;top:0;border:none !important;\" allowfullscreen webkitallowfullscreen mozallowfullscreen></iframe></div></div>"
            ]
          },
          "metadata": {},
          "execution_count": 68
        }
      ]
    }
  ]
}